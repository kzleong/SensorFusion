{
 "cells": [
  {
   "cell_type": "code",
   "execution_count": 1,
   "metadata": {},
   "outputs": [],
   "source": [
    "# Import libraries\n",
    "import pandas as pd\n",
    "import numpy as np\n",
    "from sklearn.model_selection import train_test_split\n",
    "from sklearn.metrics import accuracy_score, precision_score, recall_score, f1_score, confusion_matrix, mean_absolute_error, mean_squared_error, r2_score\n",
    "from sklearn.preprocessing import StandardScaler\n",
    "from sklearn.pipeline import Pipeline\n",
    "from sklearn.decomposition import PCA\n",
    "from sklearn.ensemble import RandomForestRegressor\n",
    "from sklearn.ensemble import RandomForestClassifier\n",
    "import seaborn as sns\n",
    "import matplotlib.pyplot as plt"
   ]
  },
  {
   "cell_type": "code",
   "execution_count": 2,
   "metadata": {},
   "outputs": [
    {
     "data": {
      "text/html": [
       "<div>\n",
       "<style scoped>\n",
       "    .dataframe tbody tr th:only-of-type {\n",
       "        vertical-align: middle;\n",
       "    }\n",
       "\n",
       "    .dataframe tbody tr th {\n",
       "        vertical-align: top;\n",
       "    }\n",
       "\n",
       "    .dataframe thead th {\n",
       "        text-align: right;\n",
       "    }\n",
       "</style>\n",
       "<table border=\"1\" class=\"dataframe\">\n",
       "  <thead>\n",
       "    <tr style=\"text-align: right;\">\n",
       "      <th></th>\n",
       "      <th>last_changed</th>\n",
       "      <th>aqi_sciosense</th>\n",
       "      <th>eco2</th>\n",
       "      <th>humidity</th>\n",
       "      <th>sound</th>\n",
       "      <th>temperature</th>\n",
       "      <th>tvoc</th>\n",
       "      <th>fteg</th>\n",
       "      <th>radar_sensor</th>\n",
       "      <th>occupancy</th>\n",
       "    </tr>\n",
       "  </thead>\n",
       "  <tbody>\n",
       "    <tr>\n",
       "      <th>0</th>\n",
       "      <td>2024-12-13T17:42:39</td>\n",
       "      <td>180</td>\n",
       "      <td>1270</td>\n",
       "      <td>31.36</td>\n",
       "      <td>493.791250</td>\n",
       "      <td>24.62</td>\n",
       "      <td>1494</td>\n",
       "      <td>180.42</td>\n",
       "      <td>1</td>\n",
       "      <td>1</td>\n",
       "    </tr>\n",
       "    <tr>\n",
       "      <th>1</th>\n",
       "      <td>2024-12-13T17:42:40</td>\n",
       "      <td>179</td>\n",
       "      <td>1267</td>\n",
       "      <td>31.36</td>\n",
       "      <td>568.813846</td>\n",
       "      <td>24.62</td>\n",
       "      <td>1485</td>\n",
       "      <td>181.36</td>\n",
       "      <td>1</td>\n",
       "      <td>1</td>\n",
       "    </tr>\n",
       "    <tr>\n",
       "      <th>2</th>\n",
       "      <td>2024-12-13T17:42:41</td>\n",
       "      <td>179</td>\n",
       "      <td>1267</td>\n",
       "      <td>31.34</td>\n",
       "      <td>554.632500</td>\n",
       "      <td>24.62</td>\n",
       "      <td>1485</td>\n",
       "      <td>182.36</td>\n",
       "      <td>1</td>\n",
       "      <td>1</td>\n",
       "    </tr>\n",
       "    <tr>\n",
       "      <th>3</th>\n",
       "      <td>2024-12-13T17:42:42</td>\n",
       "      <td>182</td>\n",
       "      <td>1274</td>\n",
       "      <td>31.34</td>\n",
       "      <td>584.920833</td>\n",
       "      <td>24.62</td>\n",
       "      <td>1506</td>\n",
       "      <td>180.36</td>\n",
       "      <td>1</td>\n",
       "      <td>1</td>\n",
       "    </tr>\n",
       "    <tr>\n",
       "      <th>4</th>\n",
       "      <td>2024-12-13T17:42:43</td>\n",
       "      <td>182</td>\n",
       "      <td>1274</td>\n",
       "      <td>31.34</td>\n",
       "      <td>651.671667</td>\n",
       "      <td>24.62</td>\n",
       "      <td>1506</td>\n",
       "      <td>176.12</td>\n",
       "      <td>1</td>\n",
       "      <td>1</td>\n",
       "    </tr>\n",
       "  </tbody>\n",
       "</table>\n",
       "</div>"
      ],
      "text/plain": [
       "          last_changed  aqi_sciosense  eco2  humidity       sound  \\\n",
       "0  2024-12-13T17:42:39            180  1270     31.36  493.791250   \n",
       "1  2024-12-13T17:42:40            179  1267     31.36  568.813846   \n",
       "2  2024-12-13T17:42:41            179  1267     31.34  554.632500   \n",
       "3  2024-12-13T17:42:42            182  1274     31.34  584.920833   \n",
       "4  2024-12-13T17:42:43            182  1274     31.34  651.671667   \n",
       "\n",
       "   temperature  tvoc    fteg  radar_sensor  occupancy  \n",
       "0        24.62  1494  180.42             1          1  \n",
       "1        24.62  1485  181.36             1          1  \n",
       "2        24.62  1485  182.36             1          1  \n",
       "3        24.62  1506  180.36             1          1  \n",
       "4        24.62  1506  176.12             1          1  "
      ]
     },
     "execution_count": 2,
     "metadata": {},
     "output_type": "execute_result"
    }
   ],
   "source": [
    "# Load datasets\n",
    "train_data = pd.read_csv('sensor_dataset.csv')\n",
    "train_data.head()"
   ]
  },
  {
   "cell_type": "code",
   "execution_count": 3,
   "metadata": {},
   "outputs": [],
   "source": [
    "# Split features and labels\n",
    "train_data_X = train_data.iloc[:,1:-1]\n",
    "train_data_y = train_data.iloc[:,-1]"
   ]
  },
  {
   "cell_type": "code",
   "execution_count": null,
   "metadata": {},
   "outputs": [],
   "source": []
  },
  {
   "cell_type": "code",
   "execution_count": 4,
   "metadata": {},
   "outputs": [],
   "source": [
    "X_train, X_test, y_train, y_test = train_test_split(train_data_X, train_data_y, test_size=0.35, shuffle=False)"
   ]
  },
  {
   "cell_type": "code",
   "execution_count": 5,
   "metadata": {},
   "outputs": [
    {
     "data": {
      "text/plain": [
       "occupancy\n",
       "3    265\n",
       "5    186\n",
       "2    158\n",
       "4    132\n",
       "1    102\n",
       "0     89\n",
       "Name: count, dtype: int64"
      ]
     },
     "execution_count": 5,
     "metadata": {},
     "output_type": "execute_result"
    }
   ],
   "source": [
    "y_train.value_counts()"
   ]
  },
  {
   "cell_type": "code",
   "execution_count": 6,
   "metadata": {},
   "outputs": [
    {
     "data": {
      "text/plain": [
       "occupancy\n",
       "3    194\n",
       "2    170\n",
       "5     70\n",
       "4     54\n",
       "1     15\n",
       "Name: count, dtype: int64"
      ]
     },
     "execution_count": 6,
     "metadata": {},
     "output_type": "execute_result"
    }
   ],
   "source": [
    "y_test.value_counts()"
   ]
  },
  {
   "cell_type": "code",
   "execution_count": 7,
   "metadata": {},
   "outputs": [],
   "source": [
    "pipeline = Pipeline([\n",
    "    ('scaler', StandardScaler()),  # Normalizes the input features\n",
    "    ('regressor', RandomForestRegressor(n_estimators=100, random_state=42))\n",
    "])"
   ]
  },
  {
   "cell_type": "code",
   "execution_count": 8,
   "metadata": {},
   "outputs": [
    {
     "name": "stdout",
     "output_type": "stream",
     "text": [
      "Model Performance:\n",
      "Mean Absolute Error (MAE): 0.76\n",
      "Mean Squared Error (MSE): 0.96\n",
      "Root Mean Squared Error (RMSE): 0.98\n",
      "R-squared (R2): 0.15\n"
     ]
    }
   ],
   "source": [
    "# Fit model\n",
    "model = pipeline.fit(X_train, y_train)\n",
    "\n",
    "# Predict training data labels and get accuracy scores\n",
    "y_pred = model.predict(X_test)\n",
    "mae = mean_absolute_error(y_test, y_pred)\n",
    "mse = mean_squared_error(y_test, y_pred)\n",
    "rmse = mse ** 0.5\n",
    "r2 = r2_score(y_test, y_pred)\n",
    "\n",
    "# Display evaluation metrics\n",
    "print(\"Model Performance:\")\n",
    "print(f\"Mean Absolute Error (MAE): {mae:.2f}\")\n",
    "print(f\"Mean Squared Error (MSE): {mse:.2f}\")\n",
    "print(f\"Root Mean Squared Error (RMSE): {rmse:.2f}\")\n",
    "print(f\"R-squared (R2): {r2:.2f}\")"
   ]
  }
 ],
 "metadata": {
  "kernelspec": {
   "display_name": "COMP3222_Week0",
   "language": "python",
   "name": "python3"
  },
  "language_info": {
   "codemirror_mode": {
    "name": "ipython",
    "version": 3
   },
   "file_extension": ".py",
   "mimetype": "text/x-python",
   "name": "python",
   "nbconvert_exporter": "python",
   "pygments_lexer": "ipython3",
   "version": "3.11.4"
  }
 },
 "nbformat": 4,
 "nbformat_minor": 2
}
